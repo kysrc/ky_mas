{
 "cells": [
  {
   "cell_type": "code",
   "execution_count": null,
   "metadata": {
    "tags": []
   },
   "outputs": [],
   "source": [
    "!pip install --user stg \n",
    "# If you are running this notebook on Google Colab, please reset the current python environment via 'Runtime -> Restart runtime' after installation."
   ]
  },
  {
   "cell_type": "code",
   "execution_count": 1,
   "metadata": {},
   "outputs": [],
   "source": [
    "from stg import STG\n",
    "import stg.utils as utils\n",
    "import numpy as np\n",
    "import torch\n",
    "import time\n"
   ]
  },
  {
   "cell_type": "markdown",
   "metadata": {},
   "source": [
    "## Prepare dataset"
   ]
  },
  {
   "cell_type": "code",
   "execution_count": 2,
   "metadata": {},
   "outputs": [],
   "source": [
    "datasets = utils.load_cox_gaussian_data()"
   ]
  },
  {
   "cell_type": "markdown",
   "metadata": {},
   "source": [
    "'datasets' should have a following structure: \n",
    "\n",
    "```{python}\n",
    "    datasets = {'train': {'x': (n_train, d) observations (dtype = float32), \n",
    "                          't': (n_train) event times (dtype = float32),\n",
    "                          'e': (n_train) event indicators (dtype = int32)},\n",
    "                'test': {'x': (n_test, d) observations (dtype = float32), \n",
    "                          't': (n_test) event times (dtype = float32),\n",
    "                          'e': (n_test) event indicators (dtype = int32)},\n",
    "                'valid': {'x': (n_valid, d) observations (dtype = float32), \n",
    "                          't': (n_valid) event times (dtype = float32),\n",
    "                          'e': (n_valid) event indicators (dtype = int32)}}\n",
    "```"
   ]
  },
  {
   "cell_type": "markdown",
   "metadata": {},
   "source": [
    "## Standardize dataset "
   ]
  },
  {
   "cell_type": "code",
   "execution_count": 3,
   "metadata": {},
   "outputs": [],
   "source": [
    "train_data = datasets['train']\n",
    "norm_vals = {\n",
    "        'mean' : datasets['train']['x'].mean(axis=0),\n",
    "        'std'  : datasets['train']['x'].std(axis=0)\n",
    "    }\n",
    "test_data = datasets['test']\n",
    "\n",
    "# standardize\n",
    "train_data = utils.standardize_dataset(datasets['train'], norm_vals['mean'], norm_vals['std'])\n",
    "valid_data = utils.standardize_dataset(datasets['valid'], norm_vals['mean'], norm_vals['std'])\n",
    "test_data = utils.standardize_dataset(datasets['test'], norm_vals['mean'], norm_vals['std'])\n",
    "\n",
    "train_X = train_data['x']\n",
    "train_y = {'e': train_data['e'], 't': train_data['t']}\n",
    "valid_X = valid_data['x']\n",
    "valid_y = {'e': valid_data['e'], 't': valid_data['t']}\n",
    "test_X = test_data['x']\n",
    "test_y = {'e': test_data['e'], 't': test_data['t']}\n",
    "\n",
    "train_data={}\n",
    "train_data['X'], train_data['E'], train_data['T'] = utils.prepare_data(train_X, train_y)\n",
    "train_data['ties'] = 'noties'\n",
    "\n",
    "valid_data={}\n",
    "valid_data['X'], valid_data['E'], valid_data['T'] = utils.prepare_data(valid_X, valid_y)\n",
    "valid_data['ties'] = 'noties'\n",
    "\n",
    "test_data = {}\n",
    "test_data['X'], test_data['E'], test_data['T'] = utils.prepare_data(test_X, test_y)\n",
    "test_data['ties'] = 'noties'"
   ]
  },
  {
   "cell_type": "markdown",
   "metadata": {},
   "source": [
    "## Instantiate the STG trainer"
   ]
  },
  {
   "cell_type": "code",
   "execution_count": 5,
   "metadata": {
    "tags": []
   },
   "outputs": [],
   "source": [
    "device = \"cpu\" \n",
    "feature_selection = True \n",
    "\n",
    "model = STG(task_type='cox',input_dim=train_data['X'].shape[1], output_dim=1, hidden_dims=[60, 20, 3], activation='selu',\n",
    "    optimizer='Adam', learning_rate=0.0005, batch_size=train_data['X'].shape[0], feature_selection=feature_selection, \n",
    "    sigma=0.5, lam=0.004, random_state=1, device=device)\n",
    "#model.save_checkpoint(filename='tmp.pth')"
   ]
  },
  {
   "cell_type": "markdown",
   "metadata": {},
   "source": [
    "## Training"
   ]
  },
  {
   "cell_type": "code",
   "execution_count": 6,
   "metadata": {},
   "outputs": [
    {
     "name": "stdout",
     "output_type": "stream",
     "text": [
      "Epoch: 100: CI=0.530046 loss=16.161469 valid_CI=0.523159 valid_loss=6.599157\n",
      "Epoch: 200: CI=0.568541 loss=15.856613 valid_CI=0.609895 valid_loss=6.581887\n",
      "Epoch: 300: CI=0.615138 loss=15.481731 valid_CI=0.656347 valid_loss=6.527073\n",
      "Epoch: 400: CI=0.626133 loss=15.085631 valid_CI=0.657863 valid_loss=6.485315\n",
      "Epoch: 500: CI=0.615827 loss=14.712515 valid_CI=0.660149 valid_loss=6.491350\n",
      "Epoch: 600: CI=0.512752 loss=14.356714 valid_CI=0.658193 valid_loss=6.508144\n",
      "Passed time: 24.166024923324585\n"
     ]
    }
   ],
   "source": [
    "now = time.time()\n",
    "model.fit(train_data['X'], {'E': train_data['E'], 'T': train_data['T']}, nr_epochs=600, \n",
    "        valid_X=valid_data['X'], valid_y={'E': valid_data['E'], 'T': valid_data['T']}, print_interval=100)\n",
    "print(\"Passed time: {}\".format(time.time() - now))\n"
   ]
  },
  {
   "cell_type": "markdown",
   "metadata": {},
   "source": [
    "## Evaluating the model"
   ]
  },
  {
   "cell_type": "code",
   "execution_count": 7,
   "metadata": {
    "tags": []
   },
   "outputs": [
    {
     "name": "stdout",
     "output_type": "stream",
     "text": [
      " test_CI=0.650570 test_loss=6.522882\n"
     ]
    }
   ],
   "source": [
    "model.evaluate(test_data['X'], {'E': test_data['E'], 'T': test_data['T']})"
   ]
  },
  {
   "cell_type": "code",
   "execution_count": 8,
   "metadata": {},
   "outputs": [
    {
     "data": {
      "text/plain": [
       "array([0.17868495, 0.18188745, 0.178422  , 0.16908959, 0.1729913 ,\n",
       "       0.17070153, 0.18029767, 0.1716389 , 0.18105036, 0.16174972],\n",
       "      dtype=float32)"
      ]
     },
     "execution_count": 8,
     "metadata": {},
     "output_type": "execute_result"
    }
   ],
   "source": [
    "model.get_gates(mode='prob')"
   ]
  },
  {
   "cell_type": "markdown",
   "metadata": {},
   "source": [
    "## Saving and loading"
   ]
  },
  {
   "cell_type": "code",
   "execution_count": 14,
   "metadata": {},
   "outputs": [],
   "source": [
    "model.save_checkpoint('trained_model.pt')"
   ]
  },
  {
   "cell_type": "code",
   "execution_count": 15,
   "metadata": {},
   "outputs": [],
   "source": [
    "model_tmp = STG(task_type='cox',input_dim=train_data['X'].shape[1], output_dim=1, hidden_dims=[60, 20, 3], activation='selu',\n",
    "    optimizer='Adam', learning_rate=0.0005, batch_size=train_data['X'].shape[0], feature_selection=feature_selection, \n",
    "    sigma=0.5, lam=0.004, random_state=1, device=device)"
   ]
  },
  {
   "cell_type": "code",
   "execution_count": 16,
   "metadata": {
    "tags": []
   },
   "outputs": [
    {
     "name": "stderr",
     "output_type": "stream",
     "text": [
      "Checkpoint loaded: trained_model.pt.\n"
     ]
    }
   ],
   "source": [
    "model_tmp.load_checkpoint('trained_model.pt')"
   ]
  },
  {
   "cell_type": "markdown",
   "metadata": {},
   "source": [
    "## Checking the performance of the loaded model"
   ]
  },
  {
   "cell_type": "code",
   "execution_count": 17,
   "metadata": {
    "tags": []
   },
   "outputs": [
    {
     "name": "stdout",
     "output_type": "stream",
     "text": [
      "test_CI=0.510212 test_loss=6.600657\n"
     ]
    }
   ],
   "source": [
    "model_tmp.evaluate(test_data['X'], {'E': test_data['E'], 'T': test_data['T']})"
   ]
  }
 ],
 "metadata": {
  "interpreter": {
   "hash": "4be2aed0a06e73f15324b3af16701116d24fc8e4a3cb39cf004d94dd1e2bc60c"
  },
  "kernelspec": {
   "display_name": "Python 3.7.0 64-bit ('Rstg': venv)",
   "language": "python",
   "name": "python3"
  },
  "language_info": {
   "codemirror_mode": {
    "name": "ipython",
    "version": 3
   },
   "file_extension": ".py",
   "mimetype": "text/x-python",
   "name": "python",
   "nbconvert_exporter": "python",
   "pygments_lexer": "ipython3",
   "version": "3.8.12"
  },
  "orig_nbformat": 2
 },
 "nbformat": 4,
 "nbformat_minor": 2
}
